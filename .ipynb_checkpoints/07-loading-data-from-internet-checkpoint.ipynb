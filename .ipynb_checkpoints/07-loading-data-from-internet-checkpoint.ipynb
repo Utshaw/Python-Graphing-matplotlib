{
 "cells": [
  {
   "cell_type": "code",
   "execution_count": 8,
   "metadata": {},
   "outputs": [
    {
     "data": {
      "image/png": "[encoded data removed]",
      "text/plain": [
       "<Figure size 432x288 with 1 Axes>"
      ]
     },
     "metadata": {
      "needs_background": "light"
     },
     "output_type": "display_data"
    }
   ],
   "source": [
    "import matplotlib.pyplot as plt\n",
    "import numpy as np\n",
    "\n",
    "import urllib\n",
    "import matplotlib.dates as mdates\n",
    "\n",
    "import pandas as pd\n",
    "\n",
    "def graph_data(stock):\n",
    "    \n",
    "    stock_price_url = 'https://pythonprogramming.net/yahoo_finance_replacement'\n",
    "    \n",
    "    source_code =  urllib.request.urlopen(stock_price_url).read().decode()\n",
    "\n",
    "    \n",
    "    \n",
    "    stock_data = []\n",
    "    \n",
    "    date = []\n",
    "    openP = []\n",
    "    highP = []\n",
    "    lowP = []\n",
    "    closeP = []\n",
    "    volume = []\n",
    "    \n",
    "    split_source = source_code.split('\\n')\n",
    "\n",
    "    \n",
    "    for line in split_source:\n",
    "        split_line = line.split(',')\n",
    "        \n",
    "\n",
    "            \n",
    "        if len(split_line) == 7:\n",
    "            if 'Date' not in line:\n",
    "                stock_data.append(line)\n",
    "                date.append(split_line[0])\n",
    "                openP.append(split_line[1])\n",
    "                highP.append(split_line[2])\n",
    "                lowP.append(split_line[3])\n",
    "                closeP.append(split_line[4])\n",
    "                \n",
    "                volume.append(split_line[6])\n",
    "    \n",
    "    date = date[:5]\n",
    "    highP = highP[:5]\n",
    "    \n",
    "    \n",
    "    plt.bar(date, highP, label='date vs max price', color='cyan')\n",
    "    plt.xlabel('date')\n",
    "    plt.ylabel('maximum price')\n",
    "    plt.legend()\n",
    "    plt.show()\n",
    "\n",
    "graph_data('TSLA')\n",
    "\n",
    "\n",
    "\n"
   ]
  }
 ],
 "metadata": {
  "kernelspec": {
   "display_name": "Python 3",
   "language": "python",
   "name": "python3"
  },
  "language_info": {
   "codemirror_mode": {
    "name": "ipython",
    "version": 3
   },
   "file_extension": ".py",
   "mimetype": "text/x-python",
   "name": "python",
   "nbconvert_exporter": "python",
   "pygments_lexer": "ipython3",
   "version": "3.7.3"
  }
 },
 "nbformat": 4,
 "nbformat_minor": 2
}
